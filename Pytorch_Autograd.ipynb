{
  "nbformat": 4,
  "nbformat_minor": 0,
  "metadata": {
    "colab": {
      "name": "Pytorch Autograd.ipynb",
      "provenance": [],
      "collapsed_sections": [],
      "include_colab_link": true
    },
    "kernelspec": {
      "name": "python3",
      "display_name": "Python 3"
    },
    "accelerator": "GPU"
  },
  "cells": [
    {
      "cell_type": "markdown",
      "metadata": {
        "id": "view-in-github",
        "colab_type": "text"
      },
      "source": [
        "<a href=\"https://colab.research.google.com/github/VANDANA-ANDE/vandana/blob/master/Pytorch_Autograd.ipynb\" target=\"_parent\"><img src=\"https://colab.research.google.com/assets/colab-badge.svg\" alt=\"Open In Colab\"/></a>"
      ]
    },
    {
      "cell_type": "markdown",
      "metadata": {
        "id": "959hvFqpztDV",
        "colab_type": "text"
      },
      "source": [
        "# Autograd : Automatic Differentiation"
      ]
    },
    {
      "cell_type": "markdown",
      "metadata": {
        "id": "3m0Z3KSqzs_B",
        "colab_type": "text"
      },
      "source": [
        "Pytorch has a package called `autograd` which tracks all the operations that you perform on any tensor and then automatically generates the gradients for that tensor."
      ]
    },
    {
      "cell_type": "code",
      "metadata": {
        "id": "kLV4F5z-q7Xv",
        "colab_type": "code",
        "colab": {}
      },
      "source": [
        "import torch"
      ],
      "execution_count": null,
      "outputs": []
    },
    {
      "cell_type": "code",
      "metadata": {
        "id": "kt5VzcB42YkG",
        "colab_type": "code",
        "colab": {
          "base_uri": "https://localhost:8080/",
          "height": 34
        },
        "outputId": "3ccc6b6a-7372-4fa5-c1a7-9493d859b36e"
      },
      "source": [
        "x = torch.tensor([4], requires_grad=True, dtype=torch.float32)\n",
        "x"
      ],
      "execution_count": null,
      "outputs": [
        {
          "output_type": "execute_result",
          "data": {
            "text/plain": [
              "tensor([4.], requires_grad=True)"
            ]
          },
          "metadata": {
            "tags": []
          },
          "execution_count": 2
        }
      ]
    },
    {
      "cell_type": "markdown",
      "metadata": {
        "id": "i1e6YOwk3MZl",
        "colab_type": "text"
      },
      "source": [
        "Every `Tensor` associated with a `Function`.\n",
        "\n",
        "When the `.requires_grad` attribute is set to `True`, the `grad_fn` attribute stores a `Function` that gives us the derivative/gradient of each operation on that tensor\n",
        "\n",
        "Each tensor stores its gradient value with it in a buffer. That buffer can be accessed by the `grad` attribute of that tensor"
      ]
    },
    {
      "cell_type": "code",
      "metadata": {
        "id": "UlC9bnMb2glB",
        "colab_type": "code",
        "colab": {
          "base_uri": "https://localhost:8080/",
          "height": 34
        },
        "outputId": "62989e3c-7b9d-446e-ccde-e0beda3b89ab"
      },
      "source": [
        "y = 3 * x**2\n",
        "y"
      ],
      "execution_count": null,
      "outputs": [
        {
          "output_type": "execute_result",
          "data": {
            "text/plain": [
              "tensor([48.], grad_fn=<MulBackward0>)"
            ]
          },
          "metadata": {
            "tags": []
          },
          "execution_count": 3
        }
      ]
    },
    {
      "cell_type": "markdown",
      "metadata": {
        "id": "rTgHWD-c4vnt",
        "colab_type": "text"
      },
      "source": [
        "$y = 3x^2 = 3 \\times 4^2  = 3 \\times 16 = 48$\n",
        "\n",
        "$y\\prime = 6x = 6 \\times 4 = 24$"
      ]
    },
    {
      "cell_type": "code",
      "metadata": {
        "id": "uAncdGKh3IpQ",
        "colab_type": "code",
        "colab": {}
      },
      "source": [
        "y.backward()"
      ],
      "execution_count": null,
      "outputs": []
    },
    {
      "cell_type": "code",
      "metadata": {
        "id": "b3QboG3l5iYg",
        "colab_type": "code",
        "colab": {
          "base_uri": "https://localhost:8080/",
          "height": 34
        },
        "outputId": "aad66d09-8651-4f46-a003-e923d7ae4fc3"
      },
      "source": [
        "print(x.grad)"
      ],
      "execution_count": null,
      "outputs": [
        {
          "output_type": "stream",
          "text": [
            "tensor([24.])\n"
          ],
          "name": "stdout"
        }
      ]
    },
    {
      "cell_type": "code",
      "metadata": {
        "id": "LfY7riYl5qPy",
        "colab_type": "code",
        "colab": {
          "base_uri": "https://localhost:8080/",
          "height": 34
        },
        "outputId": "493190ba-eab0-4658-a925-9e3750e480a8"
      },
      "source": [
        "print(x.grad.item())"
      ],
      "execution_count": null,
      "outputs": [
        {
          "output_type": "stream",
          "text": [
            "24.0\n"
          ],
          "name": "stdout"
        }
      ]
    },
    {
      "cell_type": "code",
      "metadata": {
        "id": "CJVP2Bas8eNP",
        "colab_type": "code",
        "colab": {
          "base_uri": "https://localhost:8080/",
          "height": 34
        },
        "outputId": "10e48c7f-0ac8-418b-8b18-1fc3e167443b"
      },
      "source": [
        "x = torch.tensor([5], dtype=torch.float32)\n",
        "print(x.requires_grad)"
      ],
      "execution_count": null,
      "outputs": [
        {
          "output_type": "stream",
          "text": [
            "False\n"
          ],
          "name": "stdout"
        }
      ]
    },
    {
      "cell_type": "code",
      "metadata": {
        "id": "yULUgnUA8quY",
        "colab_type": "code",
        "colab": {
          "base_uri": "https://localhost:8080/",
          "height": 34
        },
        "outputId": "c0f42daa-15e1-4e46-9ed3-16436cd9d8a3"
      },
      "source": [
        "x.requires_grad_(True)"
      ],
      "execution_count": null,
      "outputs": [
        {
          "output_type": "execute_result",
          "data": {
            "text/plain": [
              "tensor([5.], requires_grad=True)"
            ]
          },
          "metadata": {
            "tags": []
          },
          "execution_count": 8
        }
      ]
    },
    {
      "cell_type": "code",
      "metadata": {
        "id": "wGmyTqPw9IiD",
        "colab_type": "code",
        "colab": {
          "base_uri": "https://localhost:8080/",
          "height": 34
        },
        "outputId": "a115965a-d9cb-4bb3-831e-8d63226ee812"
      },
      "source": [
        "x"
      ],
      "execution_count": null,
      "outputs": [
        {
          "output_type": "execute_result",
          "data": {
            "text/plain": [
              "tensor([5.], requires_grad=True)"
            ]
          },
          "metadata": {
            "tags": []
          },
          "execution_count": 9
        }
      ]
    },
    {
      "cell_type": "markdown",
      "metadata": {
        "id": "BRusLvFAEFRS",
        "colab_type": "text"
      },
      "source": [
        "## Training"
      ]
    },
    {
      "cell_type": "code",
      "metadata": {
        "id": "csyntYXQ9Nz4",
        "colab_type": "code",
        "colab": {}
      },
      "source": [
        "in_layer = torch.tensor([3], requires_grad=True, dtype=torch.float32)\n",
        "h_layer_2 = in_layer * in_layer\n",
        "out_layer = torch.log(h_layer_2)"
      ],
      "execution_count": null,
      "outputs": []
    },
    {
      "cell_type": "code",
      "metadata": {
        "id": "5L-dNPHN-Y5T",
        "colab_type": "code",
        "colab": {
          "base_uri": "https://localhost:8080/",
          "height": 69
        },
        "outputId": "e2eb1b55-cc7c-4358-a12e-3e69a31025ac"
      },
      "source": [
        "print(in_layer)\n",
        "print(h_layer_2)\n",
        "print(out_layer)"
      ],
      "execution_count": null,
      "outputs": [
        {
          "output_type": "stream",
          "text": [
            "tensor([3.], requires_grad=True)\n",
            "tensor([9.], grad_fn=<MulBackward0>)\n",
            "tensor([2.1972], grad_fn=<LogBackward>)\n"
          ],
          "name": "stdout"
        }
      ]
    },
    {
      "cell_type": "code",
      "metadata": {
        "id": "ONtxvK_F-g6V",
        "colab_type": "code",
        "colab": {}
      },
      "source": [
        "out_layer.backward()"
      ],
      "execution_count": null,
      "outputs": []
    },
    {
      "cell_type": "code",
      "metadata": {
        "id": "SfdXgSzd-ndo",
        "colab_type": "code",
        "colab": {
          "base_uri": "https://localhost:8080/",
          "height": 34
        },
        "outputId": "cd74eb38-f559-4efe-abe1-57d1cd8b1889"
      },
      "source": [
        "print(in_layer.grad)"
      ],
      "execution_count": null,
      "outputs": [
        {
          "output_type": "stream",
          "text": [
            "tensor([0.6667])\n"
          ],
          "name": "stdout"
        }
      ]
    },
    {
      "cell_type": "markdown",
      "metadata": {
        "id": "_OmrSVyMEH2z",
        "colab_type": "text"
      },
      "source": [
        "## Evaluation"
      ]
    },
    {
      "cell_type": "code",
      "metadata": {
        "id": "-E6Gl8u6EJLn",
        "colab_type": "code",
        "colab": {
          "base_uri": "https://localhost:8080/",
          "height": 52
        },
        "outputId": "3add9292-9b4b-4682-e095-73854326e51b"
      },
      "source": [
        "x = torch.tensor([2.0], requires_grad=True)\n",
        "with torch.no_grad(): # context\n",
        "  y = x**2\n",
        "  print(x.grad_fn)\n",
        "  print(y.grad_fn)"
      ],
      "execution_count": null,
      "outputs": [
        {
          "output_type": "stream",
          "text": [
            "None\n",
            "None\n"
          ],
          "name": "stdout"
        }
      ]
    }
  ]
}